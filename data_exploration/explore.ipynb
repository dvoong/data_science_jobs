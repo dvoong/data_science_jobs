{
 "cells": [
  {
   "cell_type": "code",
   "execution_count": 1,
   "metadata": {
    "collapsed": true
   },
   "outputs": [
    {
     "name": "stdout",
     "output_type": "stream",
     "text": [
      "test notebook\n"
     ]
    }
   ],
   "source": [
    "import requests\n"
   ]
  },
  {
   "cell_type": "markdown",
   "metadata": {
    "collapsed": true
   },
   "source": [
    "# Standard Occupation Classification (SOC)\n",
    "SOC codes are 4 digit codes that correspond to a particular occupation classification. e.g. 9120 corresponds to \"Elementary Construction Occupations\" and contains job titles such as brick layer, plumber, plasterer, etc.\n",
    "\n",
    "A full list of these codes can be found at https://www.gov.uk/government/uploads/system/uploads/attachment_data/file/303033/CoP_-_Apr_14_V0_6.pdf\n",
    "## API"
   ]
  },
  {
   "cell_type": "markdown",
   "metadata": {},
   "source": [
    "Search job titles by keyword, returns a list of job titles and their SOC codes"
   ]
  },
  {
   "cell_type": "code",
   "execution_count": null,
   "metadata": {
    "collapsed": true
   },
   "outputs": [],
   "source": [
    "r = requests.get('http://api.lmiforall.org.uk/api/v1/soc/search?q=plumber')"
   ]
  },
  {
   "cell_type": "code",
   "execution_count": 10,
   "metadata": {
    "collapsed": true
   },
   "outputs": [
    {
     "data": {
      "text/plain": [
       "'[{\"soc\":5314,\"title\":\"Plumbers and heating and ventilating engineers\",\"description\":\"Jobholders in this unit group assemble, install, maintain and repair plumbing fixtures, heating and ventilating systems and pipes and pipeline systems in commercial, residential and industrial premises and public buildings.\",\"qualifications\":\"There are no formal academic requirements although GCSEs/S grades are advantageous. NVQs/SVQs in Mechanical Engineering Services are available at Levels 2 and 3. Apprenticeships are available for plumbing and lead to an NVQ/SVQ at Level 3.\",\"tasks\":\" examines drawings and specifications to determine layout of system;\\\\n measures and cuts required lengths of copper, lead, steel, iron, aluminium or plastic using hand or machine tools;\\\\n installs fittings such as storage tanks, cookers, baths, toilets, taps and valves, refrigerators, boilers, radiators and fires;\\\\n tests completed installation for leaks and makes any necessary adjustments;\\\\n attaches fittings and joins piping by welding, soldering, cementing, fusing, screwing or other methods;\\\\n repairs burst pipes and mechanical and combustion faults and replaces faulty taps, washers, valves, etc.\"},{\"soc\":9120,\"title\":\"Elementary construction occupations\",\"description\":\"Job holders in this unit group perform a variety of general labouring and construction duties to assist building, civil engineering and related trades workers in the performance of their tasks.\",\"qualifications\":\"No academic qualifications are required. Training is typically provided on-the-job. NVQs/SVQs in a variety of construction and craft occupations are available at Levels 1, 2 and 3.\",\"tasks\":\" conveys blocks, bricks, stone, mortar, roofing, felt, slates, wood and other building materials to the work area;\\\\n assists with the erection of ladders, scaffolding and work platforms, the rigging of cradles of hoisting equipment and the attaching of slings, hooks and guide ropes;\\\\n mixes mortar, grouting material, cement screed, and plaster, prepares adhesive, primer and paints and similar construction material, and undertakes basic decorating, painting, plumbing and other maintenance and repair tasks;\\\\n cleans equipment and tools, clears work area and otherwise assists building and woodworking trades workers as directed;\\\\n performs general labouring tasks such as digging trenches and foundations, removing wall coverings, and preparing surfaces by cleaning, sanding, filling, etc.;\\\\n covers ceilings, floors, walls and exposed surfaces of boilers, pipes and plant with insulating material;\\\\n heats and breaks up blocks of asphalt, bitumen or tar, stirs melting mixture, adds aggregate if required, pours mixture into buckets;\\\\n measures and fixes timber and other structures to support excavations, cables or other rail, signal and telecommunications equipment;\\\\n excavates, constructs and maintains land drainage systems and prepares graves for burial;\\\\n operates, cleans and lubricates valves and sluices, removes weeds, dead animals and other debris from waterways and carries out minor repairs to banks and footbridges;\\\\n helps diver into and out of diving suit, maintains communication with submerged diver and checks equipment and time spent under water.\"},{\"soc\":5242,\"title\":\"Telecommunications engineers\",\"description\":\"Telecommunications engineers install, maintain and repair public and private telephone systems and maintain, test and repair telecommunications cables.\",\"qualifications\":\"There are no formal academic requirements, although entrants typically possess GCSEs/S grades or an equivalent qualification. Apprenticeships and traineeships combining work experience and practical training are available at NVQ/SVQ Levels 2 and 3.\",\"tasks\":\" installs internal cabling and wiring for telephone systems and fits and wires junction and distribution boxes;\\\\n fixes connecting wires from underground and aerial lines to premises and connects cable terminals to inside wiring;\\\\n installs telephones, switchboards and coin operated phone boxes;\\\\n uses testing equipment to locate defective components of circuitry and makes any necessary repairs;\\\\n tests installation and makes any further necessary adjustments;\\\\n assists with the erection of wooden poles or steel towers to carry overhead lines;\\\\n connects cables and tests for any defects;\\\\n locates and repairs faults to lines and ancillary equipment;\\\\n erects and maintains mobile telecommunications infrastructure.\"}]'"
      ]
     },
     "execution_count": 10,
     "metadata": {},
     "output_type": "execute_result"
    }
   ],
   "source": [
    "r.content"
   ]
  },
  {
   "cell_type": "markdown",
   "metadata": {},
   "source": [
    "Get information about a particular SOC code"
   ]
  },
  {
   "cell_type": "code",
   "execution_count": 11,
   "metadata": {
    "collapsed": true
   },
   "outputs": [
    {
     "data": {
      "text/plain": [
       "'{\"soc\":9120,\"tasks\":\" conveys blocks, bricks, stone, mortar, roofing, felt, slates, wood and other building materials to the work area;\\\\n assists with the erection of ladders, scaffolding and work platforms, the rigging of cradles of hoisting equipment and the attaching of slings, hooks and guide ropes;\\\\n mixes mortar, grouting material, cement screed, and plaster, prepares adhesive, primer and paints and similar construction material, and undertakes basic decorating, painting, plumbing and other maintenance and repair tasks;\\\\n cleans equipment and tools, clears work area and otherwise assists building and woodworking trades workers as directed;\\\\n performs general labouring tasks such as digging trenches and foundations, removing wall coverings, and preparing surfaces by cleaning, sanding, filling, etc.;\\\\n covers ceilings, floors, walls and exposed surfaces of boilers, pipes and plant with insulating material;\\\\n heats and breaks up blocks of asphalt, bitumen or tar, stirs melting mixture, adds aggregate if required, pours mixture into buckets;\\\\n measures and fixes timber and other structures to support excavations, cables or other rail, signal and telecommunications equipment;\\\\n excavates, constructs and maintains land drainage systems and prepares graves for burial;\\\\n operates, cleans and lubricates valves and sluices, removes weeds, dead animals and other debris from waterways and carries out minor repairs to banks and footbridges;\\\\n helps diver into and out of diving suit, maintains communication with submerged diver and checks equipment and time spent under water.\",\"description\":\"Job holders in this unit group perform a variety of general labouring and construction duties to assist building, civil engineering and related trades workers in the performance of their tasks.\",\"title\":\"Elementary construction occupations\",\"qualifications\":\"No academic qualifications are required. Training is typically provided on-the-job. NVQs/SVQs in a variety of construction and craft occupations are available at Levels 1, 2 and 3.\",\"add_titles\":[\"Applicator, mastic\",\"Assistant, bricklayer\\'s\",\"Assistant, builders\\'\",\"Assistant, carpenter\\'s\",\"Assistant, diver\\'s, sea\",\"Assistant, electrician\\'s (building construction)\",\"Assistant, general (building maintenance)\",\"Assistant, general (building construction)\",\"Assistant, glazier\\'s\",\"Assistant, joiner\\'s\",\"Assistant, mason\\'s\",\"Assistant, plasterer\\'s\",\"Assistant, plumber\\'s\",\"Assistant, regulator\\'s, gas\",\"Assistant, sawyer\\'s\",\"Assistant, survey (government)\",\"Assistant, surveying\",\"Assistant, surveyor\\'s\",\"Attendant, diver\\'s\",\"Attendant, reservoir\",\"Attendant, river\",\"Backer-up (sawmilling)\",\"Bailiff, reservoir\",\"Bailiff (level, sewer commissioners)\",\"Banksman (canal contractors)\",\"Boiler, tar (building construction)\",\"Boy, chain\",\"Breaker, rock (construction)\",\"Canalman\",\"Caretaker (reservoir)\",\"Carrier, hod\",\"Chainman\",\"Cleaner, river\",\"Clothier, boiler\",\"Contractor, drainage\",\"Contractor, penning\",\"Contractor (coal mine)\",\"Coverer, boiler\",\"Coverer, pipe\",\"Digger, grave\",\"Digger, trench\",\"Dismantler, furnace\",\"Ditcher\",\"Drainer\",\"Erector, light, street\",\"Erector, marquee\",\"Erector, tent\",\"Examiner, trench\",\"Fitter, builder\\'s\",\"Fitter, insulating\",\"Fixer, insulation\",\"Fixer, lath, metal\",\"Foreman, length (river, water authority)\",\"Foreman, surface (coal mine)\",\"Foreman, yard (coal mine)\",\"Foreman (river, water authority)\",\"Foreman (waterways)\",\"Ganger (canals)\",\"Hand, insulation\",\"Hand, maintenance, estate\",\"Hand, maintenance (canals)\",\"Handyman, builder\\'s\",\"Handyman, carpenter\\'s\",\"Handyman, electrician\\'s (building construction)\",\"Handyman, fitter\\'s (pipe)\",\"Handyman-labourer\",\"Help, electrician\\'s (building construction)\",\"Helper, bricklayer\\'s\",\"Helper, carpenter\\'s\",\"Helper, electrician\\'s (building construction)\",\"Helper, mason\\'s\",\"Inspector, canal\",\"Inspector, navigation (river, water authority)\",\"Inspector, river\",\"Inspector, section (waterways)\",\"Inspector, waterways\",\"Insulator, loft\",\"Insulator, pipe\",\"Insulator, refrigerator\",\"Jobber, agent\\'s, estate\",\"Jobber, builder\\'s\",\"Jobber, property\",\"Jobber (building construction)\",\"Keeper, reservoir\",\"Keeper, wharf, canal\",\"Labourer, bricklayer\\'s\",\"Labourer, bricksetter\\'s\",\"Labourer, builder\\'s, boat\",\"Labourer, builder\\'s\",\"Labourer, building\",\"Labourer, carpenter\\'s\",\"Labourer, construction\",\"Labourer, contractor\\'s\",\"Labourer, cooper\\'s\",\"Labourer, electrician\\'s (building construction)\",\"Labourer, engineer\\'s, civil\",\"Labourer, engineering, civil\",\"Labourer, fitter\\'s, shop\",\"Labourer, fixer\\'s, felt\",\"Labourer, fixer\\'s, sheet\",\"Labourer, joiner\\'s\",\"Labourer, layer\\'s, granolithic\",\"Labourer, layer\\'s, terrazzo\",\"Labourer, maker\\'s, cabinet\",\"Labourer, mason\\'s, fixer\",\"Labourer, mason\\'s, stone\",\"Labourer, plasterer\\'s\",\"Labourer, platelayer\\'s\",\"Labourer, plumber\\'s\",\"Labourer, roofer\\'s\",\"Labourer, roofing\",\"Labourer, site\",\"Labourer, slater\\'s\",\"Labourer, steeplejack\\'s\",\"Labourer, track, electric\",\"Labourer (building construction)\",\"Lagger, asbestos\",\"Lagger, boiler\",\"Lagger, pipe\",\"Lagger\",\"Lather, metal\",\"Lengthman (canals)\",\"Liner, pipe (building construction)\",\"Liner, pipe\",\"Linesman, diver\\'s\",\"Linesman, surveyor\\'s\",\"Linesman (water works)\",\"Maker, composition (boiler covering)\",\"Man, job, odd\",\"Man, maintenance (water works)\",\"Man, marsh\",\"Man, mixer, asphalt (building construction)\",\"Man, timber (building construction)\",\"Man, timber (coal mine: above ground)\",\"Man, timber (electricity supplier)\",\"Man, timber (local government)\",\"Man, timber (railways)\",\"Man, timber (water company)\",\"Mate, asphalter\\'s\",\"Mate, builder\\'s\",\"Mate, carpenter\\'s\",\"Mate, carpenter\\'s and joiner\\'s\",\"Mate, coverer\\'s, boiler\",\"Mate, craftsman\\'s\",\"Mate, electrician\\'s (building construction)\",\"Mate, fixer\\'s\",\"Mate, flagger\\'s\",\"Mate, glazier\\'s\",\"Mate, joiner\\'s\",\"Mate, jointer\\'s, pipe\",\"Mate, lagger\\'s\",\"Mate, layer\\'s, brick\",\"Mate, layer\\'s, granolithic\",\"Mate, layer\\'s, main\",\"Mate, layer\\'s, plate\",\"Mate, layer\\'s, service\",\"Mate, layer\\'s, terrazzo\",\"Mate, machinist\\'s, wood\",\"Mate, mason\\'s\",\"Mate, painter\\'s\",\"Mate, pavior\\'s\",\"Mate, plasterer\\'s\",\"Mate, plumber and jointer\\'s\",\"Mate, plumber\\'s\",\"Mate, roofer\\'s\",\"Mate, sawyer\\'s\",\"Mate, scaffolder\\'s\",\"Mate, sheeter\\'s\",\"Mate, slater\\'s\",\"Mate, steeplejack\\'s\",\"Mate, tiler\\'s\",\"Mate, timberman\\'s\",\"Mate, wheelwright\\'s\",\"Mixer, asphalt (building construction)\",\"Mixer, tar (building construction)\",\"Navvy, pond, slurry\",\"Navvy\",\"Operative, defence, flood\",\"Operative, rivers\",\"Operator, gun, cement\",\"Operator, tank, asphalt\",\"Packer, asbestos\",\"Pipeliner\",\"Porter-handyman\",\"Potman, asphalt\",\"Potman (building construction)\",\"Proofer, damp\",\"Proofer, water (building construction)\",\"Propman (coal mine: above ground)\",\"Propper (coal mine: above ground)\",\"Puller-off (sawmilling)\",\"Rammerman\",\"Repairer, bank (canal)\",\"Riverman\",\"Signalman, diver\\'s\",\"Spreader (building construction)\",\"Superintendent, reservoir\",\"Tacker, board\",\"Taker, care (reservoir)\",\"Tender, diver\\'s\",\"Tenter, diver\\'s\",\"Tester, drain\",\"Tester, pipe (main laying)\",\"Trenchman\",\"Tupper (building construction)\",\"Worker, building\",\"Worker, canal\",\"Worker, construction\",\"Worker, drainage\",\"Worker, ground (building construction)\",\"Worker, river\"]}'"
      ]
     },
     "execution_count": 11,
     "metadata": {},
     "output_type": "execute_result"
    }
   ],
   "source": [
    "r = requests.get('http://api.lmiforall.org.uk/api/v1/soc/code/9120')\n",
    "r.content"
   ]
  },
  {
   "cell_type": "markdown",
   "metadata": {},
   "source": [
    "ASHE: Annual Survey of Hours and Earnings\n",
    "The UK Census: "
   ]
  }
 ],
 "metadata": {
  "kernelspec": {
   "display_name": "Python 2",
   "language": "python",
   "name": "python2"
  },
  "language_info": {
   "codemirror_mode": {
    "name": "ipython",
    "version": 2
   },
   "file_extension": ".py",
   "mimetype": "text/x-python",
   "name": "python",
   "nbconvert_exporter": "python",
   "pygments_lexer": "ipython2",
   "version": "2.7.6"
  }
 },
 "nbformat": 4,
 "nbformat_minor": 0
}
